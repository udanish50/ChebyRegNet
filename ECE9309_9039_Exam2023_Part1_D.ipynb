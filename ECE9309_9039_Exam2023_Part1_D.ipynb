{
  "cells": [
    {
      "cell_type": "markdown",
      "metadata": {
        "id": "view-in-github",
        "colab_type": "text"
      },
      "source": [
        "<a href=\"https://colab.research.google.com/github/udanish50/ChebyShevHyperNet/blob/main/ECE9309_9039_Exam2023_Part1_D.ipynb\" target=\"_parent\"><img src=\"https://colab.research.google.com/assets/colab-badge.svg\" alt=\"Open In Colab\"/></a>"
      ]
    },
    {
      "cell_type": "markdown",
      "metadata": {
        "id": "ElCGl6h9TdK9"
      },
      "source": [
        "# Final Exam – Part 1 (60 pts)\n",
        "\n",
        "### Student Name: xxxxxxxx\n",
        "### Student ID: xxxxxxxx\n",
        "\n",
        "## General\n",
        "The instructions for the final exam are included in the cover page shared on OWL. In addion, some basic rules:\n",
        "\n",
        "This part of the exam is **Open Book** and you will answer to the programming questions below on this Jupyter Notebook. You have **2 hours (9:00 am - 11:00 am)** to finish the exam and upload your notebook on OWL. \n",
        "* You **are allowed** to use any document and sources on your computer and look up documents on the internet. **You need to cite any code that you use if it is NOT from the course Labs or Tutorial examples**.\n",
        "* You or **NOT allowed** to share documents, or communicate in any other way with people about the final during the final. Afterwards, you are not allowed to share the final, or talk about its content, with students who still have to take a make-up final. Using AI chatbots is **NOT allowed and will be counted as cheating or plagiarism**.\n",
        "* Many questions also require a written answer. The answer to these questions should be given in full English sentences.\n",
        "* All Figures should have a x-axis and y-axis label.\n",
        "* Add as many cells as you want, whenever you need to. \n",
        "* Please make sure to add sufficient comments to your code.\n",
        "* To finish the exam in the alloted time, you will have to work efficiently. **Read the requirements of each question carefully.**\n",
        "* You need to submit the final exam Jupyter Notebook by the **due date (April 17, 2023 at 11:00 am)** on **OWL in the Assignments / Final Exam - Part 1** where you downloaded the Dataset and Jupyter Notebook. Late submission will be scored with 0 pts, unless you have received special accommodations. To avoid technical difficulties, start your submission at latest five to ten minutes before the deadline. To be sure, you can also submit multiple versions - only the latest version will be graded. \n",
        "\n",
        "\n",
        "**Please remember that you also have Part 2 of this exam (40 Points) that will be released on OWL at 11:00am and closed at 12:00pm.**\n",
        "\n",
        "**Ensure that your code runs correctly by choosing \"Kernel -> Restart and Run All\" before submitting.**\n",
        "\n",
        "### Additional Guidance\n",
        "\n",
        "If at any point you are not sure about the answer, then *write your assumptions clearly in your exam and proceed according to those assumptions.*\n",
        "\n",
        "Good luck!"
      ]
    },
    {
      "cell_type": "code",
      "execution_count": 1,
      "metadata": {
        "id": "TCSYbU7OTdLH"
      },
      "outputs": [],
      "source": [
        "## Preliminaries\n",
        "# Sets up the environment by importing \n",
        "# pandas, numpy, matplotlib.\n",
        "\n",
        "### YOU MAY ADD ADDITIONAL IMPORTS IF YOU WISH\n",
        "### HERE OR IN ANY OF THE CELLS BELOW\n",
        "\n",
        "import matplotlib.pyplot as plt \n",
        "%matplotlib inline\n",
        "\n",
        "import pandas as pd \n",
        "import numpy as np\n",
        "import seaborn as sns\n",
        "\n",
        "from sklearn.model_selection import train_test_split, GridSearchCV\n",
        "from sklearn.preprocessing import StandardScaler\n",
        "from sklearn.linear_model import LinearRegression, LogisticRegression, Ridge, Lasso, LassoCV\n",
        "from sklearn.ensemble import RandomForestClassifier\n",
        "from sklearn.metrics import mean_squared_error, accuracy_score, f1_score, confusion_matrix, roc_curve, auc, roc_auc_score\n",
        "\n",
        "import time\n",
        "\n",
        "import tensorflow as tf\n",
        "from tensorflow.keras.models import Sequential\n",
        "from tensorflow.keras.layers import Dense\n",
        "from tensorflow.keras.optimizers import Adam\n"
      ]
    },
    {
      "cell_type": "markdown",
      "metadata": {
        "id": "MJblnvS5TdLK"
      },
      "source": [
        "---\n",
        "---\n",
        "# Question 1 - Data Preparations ( X / 5 pts )"
      ]
    },
    {
      "cell_type": "markdown",
      "metadata": {
        "id": "Q_ZLVonQTdLL"
      },
      "source": [
        "## Dataset\n",
        "In this exam, we will work on the network anomaly detection dataset \"IP_Activity_Dataset_5000.csv\". It was generated from web server access logs and collected from a real-world website in Content Delivery Networks (CDNs). Each sample/row in the dataset represents a unique Internet Protocol (IP) address with 9 columns/variables. Each feature/column is a performance indicator that reflect the state or activity of each sample/IP. The IP addresses were masked due to privacy reasons.  \n",
        "\n",
        "### Variables/Features\n",
        "Feature description: \n",
        "1.\t**requests**: the number of requests sent by per IP.\n",
        "2.\t**request-interval**:  the average time interval between consecutive requests sent by per IP. Unit: milliseconds\n",
        "3.\t**request-popularity**: what percentage of the requests sent by per IP are for popular contents.\n",
        "4.\t**bytes**: the average bytes received by per IP after requesting the content.\n",
        "5.\t**delivery-time**: the average request delivery time experienced by per IP. Unit: milliseconds\n",
        "6.\t**hit-rate**: cache hit rate of per IP.\n",
        "7.\t**nodes**: the number of nodes that received requests from per IP.\n",
        "8.\t**contents**: the number of contents/files that per IP requested for.\n",
        "9.\t**label**: 0-normal, 1-abnormal (potential cache pollution attacks). "
      ]
    },
    {
      "cell_type": "markdown",
      "metadata": {
        "id": "6b57gH0bTdLL"
      },
      "source": [
        "---\n",
        "## Question 1 Part A - Read Dataset ( X / 1 pts )\n",
        "Read the dataset \"IP_Activity_Dataset_5000.csv\" as a pandas dataframe \"df\". PS: Please use the relative path."
      ]
    },
    {
      "cell_type": "code",
      "execution_count": 4,
      "metadata": {
        "id": "i_SAPz0STdLM"
      },
      "outputs": [],
      "source": [
        "df = pd.read_csv('IP_Activity_Dataset_5000.csv')"
      ]
    },
    {
      "cell_type": "markdown",
      "metadata": {
        "id": "Qe5-Dp9iTdLM"
      },
      "source": [
        "---\n",
        "## Question 1 Part B - Explore dataset ( X / 4 pts )\n",
        "In the cell below, write code that does the following:\n",
        "- Prints the number of observations in the dataset\n",
        "- Prints the number of variables in the dataset (all variables regardless of whether they are a feature or label or neither)\n",
        "- Prints the number of observations for each class in the 'label' variable\n",
        "- Prints the first five rows of the dataset"
      ]
    },
    {
      "cell_type": "code",
      "execution_count": 8,
      "metadata": {
        "colab": {
          "base_uri": "https://localhost:8080/",
          "height": 293
        },
        "id": "VBNl_QvRTdLN",
        "outputId": "8125374e-c5a2-4837-e262-e154cafac398"
      },
      "outputs": [
        {
          "output_type": "stream",
          "name": "stdout",
          "text": [
            "(5000, 9)\n",
            "label\n",
            "0        4500\n",
            "1         500\n",
            "dtype: int64\n"
          ]
        },
        {
          "output_type": "execute_result",
          "data": {
            "text/plain": [
              "   requests  request-interval  request-popularity        bytes  delivery-time  \\\n",
              "0        18        378.605278            1.000000    29.667209      38.833333   \n",
              "1         5          0.524200            1.000000    19.226953     204.600000   \n",
              "2      1141         66.912231            0.167647    19.847204     142.072963   \n",
              "3        80          2.472875            0.418750  1769.312634    1330.787500   \n",
              "4         1          0.000000            1.000000     0.000000       2.000000   \n",
              "\n",
              "   hit-rate  nodes  contents  label  \n",
              "0  0.888889      2         9      0  \n",
              "1  1.000000      1         5      0  \n",
              "2  0.021520      5       703      1  \n",
              "3  1.000000      2        76      0  \n",
              "4  1.000000      1         1      0  "
            ],
            "text/html": [
              "\n",
              "  <div id=\"df-f8ba72e9-cda4-4433-b99f-c1128912a921\">\n",
              "    <div class=\"colab-df-container\">\n",
              "      <div>\n",
              "<style scoped>\n",
              "    .dataframe tbody tr th:only-of-type {\n",
              "        vertical-align: middle;\n",
              "    }\n",
              "\n",
              "    .dataframe tbody tr th {\n",
              "        vertical-align: top;\n",
              "    }\n",
              "\n",
              "    .dataframe thead th {\n",
              "        text-align: right;\n",
              "    }\n",
              "</style>\n",
              "<table border=\"1\" class=\"dataframe\">\n",
              "  <thead>\n",
              "    <tr style=\"text-align: right;\">\n",
              "      <th></th>\n",
              "      <th>requests</th>\n",
              "      <th>request-interval</th>\n",
              "      <th>request-popularity</th>\n",
              "      <th>bytes</th>\n",
              "      <th>delivery-time</th>\n",
              "      <th>hit-rate</th>\n",
              "      <th>nodes</th>\n",
              "      <th>contents</th>\n",
              "      <th>label</th>\n",
              "    </tr>\n",
              "  </thead>\n",
              "  <tbody>\n",
              "    <tr>\n",
              "      <th>0</th>\n",
              "      <td>18</td>\n",
              "      <td>378.605278</td>\n",
              "      <td>1.000000</td>\n",
              "      <td>29.667209</td>\n",
              "      <td>38.833333</td>\n",
              "      <td>0.888889</td>\n",
              "      <td>2</td>\n",
              "      <td>9</td>\n",
              "      <td>0</td>\n",
              "    </tr>\n",
              "    <tr>\n",
              "      <th>1</th>\n",
              "      <td>5</td>\n",
              "      <td>0.524200</td>\n",
              "      <td>1.000000</td>\n",
              "      <td>19.226953</td>\n",
              "      <td>204.600000</td>\n",
              "      <td>1.000000</td>\n",
              "      <td>1</td>\n",
              "      <td>5</td>\n",
              "      <td>0</td>\n",
              "    </tr>\n",
              "    <tr>\n",
              "      <th>2</th>\n",
              "      <td>1141</td>\n",
              "      <td>66.912231</td>\n",
              "      <td>0.167647</td>\n",
              "      <td>19.847204</td>\n",
              "      <td>142.072963</td>\n",
              "      <td>0.021520</td>\n",
              "      <td>5</td>\n",
              "      <td>703</td>\n",
              "      <td>1</td>\n",
              "    </tr>\n",
              "    <tr>\n",
              "      <th>3</th>\n",
              "      <td>80</td>\n",
              "      <td>2.472875</td>\n",
              "      <td>0.418750</td>\n",
              "      <td>1769.312634</td>\n",
              "      <td>1330.787500</td>\n",
              "      <td>1.000000</td>\n",
              "      <td>2</td>\n",
              "      <td>76</td>\n",
              "      <td>0</td>\n",
              "    </tr>\n",
              "    <tr>\n",
              "      <th>4</th>\n",
              "      <td>1</td>\n",
              "      <td>0.000000</td>\n",
              "      <td>1.000000</td>\n",
              "      <td>0.000000</td>\n",
              "      <td>2.000000</td>\n",
              "      <td>1.000000</td>\n",
              "      <td>1</td>\n",
              "      <td>1</td>\n",
              "      <td>0</td>\n",
              "    </tr>\n",
              "  </tbody>\n",
              "</table>\n",
              "</div>\n",
              "      <button class=\"colab-df-convert\" onclick=\"convertToInteractive('df-f8ba72e9-cda4-4433-b99f-c1128912a921')\"\n",
              "              title=\"Convert this dataframe to an interactive table.\"\n",
              "              style=\"display:none;\">\n",
              "        \n",
              "  <svg xmlns=\"http://www.w3.org/2000/svg\" height=\"24px\"viewBox=\"0 0 24 24\"\n",
              "       width=\"24px\">\n",
              "    <path d=\"M0 0h24v24H0V0z\" fill=\"none\"/>\n",
              "    <path d=\"M18.56 5.44l.94 2.06.94-2.06 2.06-.94-2.06-.94-.94-2.06-.94 2.06-2.06.94zm-11 1L8.5 8.5l.94-2.06 2.06-.94-2.06-.94L8.5 2.5l-.94 2.06-2.06.94zm10 10l.94 2.06.94-2.06 2.06-.94-2.06-.94-.94-2.06-.94 2.06-2.06.94z\"/><path d=\"M17.41 7.96l-1.37-1.37c-.4-.4-.92-.59-1.43-.59-.52 0-1.04.2-1.43.59L10.3 9.45l-7.72 7.72c-.78.78-.78 2.05 0 2.83L4 21.41c.39.39.9.59 1.41.59.51 0 1.02-.2 1.41-.59l7.78-7.78 2.81-2.81c.8-.78.8-2.07 0-2.86zM5.41 20L4 18.59l7.72-7.72 1.47 1.35L5.41 20z\"/>\n",
              "  </svg>\n",
              "      </button>\n",
              "      \n",
              "  <style>\n",
              "    .colab-df-container {\n",
              "      display:flex;\n",
              "      flex-wrap:wrap;\n",
              "      gap: 12px;\n",
              "    }\n",
              "\n",
              "    .colab-df-convert {\n",
              "      background-color: #E8F0FE;\n",
              "      border: none;\n",
              "      border-radius: 50%;\n",
              "      cursor: pointer;\n",
              "      display: none;\n",
              "      fill: #1967D2;\n",
              "      height: 32px;\n",
              "      padding: 0 0 0 0;\n",
              "      width: 32px;\n",
              "    }\n",
              "\n",
              "    .colab-df-convert:hover {\n",
              "      background-color: #E2EBFA;\n",
              "      box-shadow: 0px 1px 2px rgba(60, 64, 67, 0.3), 0px 1px 3px 1px rgba(60, 64, 67, 0.15);\n",
              "      fill: #174EA6;\n",
              "    }\n",
              "\n",
              "    [theme=dark] .colab-df-convert {\n",
              "      background-color: #3B4455;\n",
              "      fill: #D2E3FC;\n",
              "    }\n",
              "\n",
              "    [theme=dark] .colab-df-convert:hover {\n",
              "      background-color: #434B5C;\n",
              "      box-shadow: 0px 1px 3px 1px rgba(0, 0, 0, 0.15);\n",
              "      filter: drop-shadow(0px 1px 2px rgba(0, 0, 0, 0.3));\n",
              "      fill: #FFFFFF;\n",
              "    }\n",
              "  </style>\n",
              "\n",
              "      <script>\n",
              "        const buttonEl =\n",
              "          document.querySelector('#df-f8ba72e9-cda4-4433-b99f-c1128912a921 button.colab-df-convert');\n",
              "        buttonEl.style.display =\n",
              "          google.colab.kernel.accessAllowed ? 'block' : 'none';\n",
              "\n",
              "        async function convertToInteractive(key) {\n",
              "          const element = document.querySelector('#df-f8ba72e9-cda4-4433-b99f-c1128912a921');\n",
              "          const dataTable =\n",
              "            await google.colab.kernel.invokeFunction('convertToInteractive',\n",
              "                                                     [key], {});\n",
              "          if (!dataTable) return;\n",
              "\n",
              "          const docLinkHtml = 'Like what you see? Visit the ' +\n",
              "            '<a target=\"_blank\" href=https://colab.research.google.com/notebooks/data_table.ipynb>data table notebook</a>'\n",
              "            + ' to learn more about interactive tables.';\n",
              "          element.innerHTML = '';\n",
              "          dataTable['output_type'] = 'display_data';\n",
              "          await google.colab.output.renderOutput(dataTable, element);\n",
              "          const docLink = document.createElement('div');\n",
              "          docLink.innerHTML = docLinkHtml;\n",
              "          element.appendChild(docLink);\n",
              "        }\n",
              "      </script>\n",
              "    </div>\n",
              "  </div>\n",
              "  "
            ]
          },
          "metadata": {},
          "execution_count": 8
        }
      ],
      "source": [
        "print(df.shape)\n",
        "print(df[['label']].value_counts())\n",
        "df.head()"
      ]
    },
    {
      "cell_type": "markdown",
      "metadata": {
        "id": "EBAYQlSiTdLN"
      },
      "source": [
        "---\n",
        "---\n",
        "# Question 2 - Regression and Evaluation (X / 20 pts)\n",
        "Your next task is to build regression models that predicts the delivery-time of IPs."
      ]
    },
    {
      "cell_type": "code",
      "source": [
        "\n",
        "model_LR = LinearRegression()\n",
        "df.columns"
      ],
      "metadata": {
        "colab": {
          "base_uri": "https://localhost:8080/"
        },
        "id": "oWokL0ITUnOk",
        "outputId": "fee3a9c5-07a1-4f43-9041-6b1032140488"
      },
      "execution_count": 10,
      "outputs": [
        {
          "output_type": "execute_result",
          "data": {
            "text/plain": [
              "Index(['requests', 'request-interval', 'request-popularity', 'bytes',\n",
              "       'delivery-time', 'hit-rate', 'nodes', 'contents', 'label'],\n",
              "      dtype='object')"
            ]
          },
          "metadata": {},
          "execution_count": 10
        }
      ]
    },
    {
      "cell_type": "markdown",
      "metadata": {
        "id": "GudkoQatTdLO"
      },
      "source": [
        "---\n",
        "## Question 2 Part A - Data Splitting For Regression ( X / 2 pts )\n",
        "- Use 'delivery-time' as the target variable y for your regression models, and other variables as the feature set X.\n",
        "- Split the data into equals-sized training and test sets (do not shuffle the data).\n"
      ]
    },
    {
      "cell_type": "code",
      "execution_count": 15,
      "metadata": {
        "id": "UW1q2zNlTdLO"
      },
      "outputs": [],
      "source": [
        "features = df[['requests', 'request-interval', 'request-popularity', 'bytes','hit-rate', 'nodes', 'contents', 'label']]\n",
        "target = df[['delivery-time']]\n",
        "Xtrain, Xtest, ytrain, ytest = train_test_split(features, target,test_size=0.5, shuffle=False)"
      ]
    },
    {
      "cell_type": "markdown",
      "metadata": {
        "id": "55oGWllVTdLP"
      },
      "source": [
        "---\n",
        "## Question 2 Part B - Data Standardization ( X / 2 pts )\n",
        "- Z-standarize the input features of the training and test sets.\n",
        "- All the questions below should be based on the standarized dataset."
      ]
    },
    {
      "cell_type": "code",
      "execution_count": 16,
      "metadata": {
        "id": "D_qtmF5NTdLP"
      },
      "outputs": [],
      "source": [
        "scaler = StandardScaler()\n",
        "XtrainScaled = scaler.fit_transform(Xtrain)\n",
        "XtestScaled = scaler.fit_transform(Xtest)"
      ]
    },
    {
      "cell_type": "markdown",
      "source": [],
      "metadata": {
        "id": "TdkpWTz7W04h"
      }
    },
    {
      "cell_type": "markdown",
      "metadata": {
        "id": "Zkfy_ysATdLQ"
      },
      "source": [
        "---\n",
        "## Question 2 Part C - Basic Lasso Regression ( X / 2 pts )\n",
        "- Build a regression model with L1 regularization (Lasso) and the default alpha value. Fit it on your training set, and set the random state to 42.\n",
        "- Report the coefficients and intercept of the model.\n",
        "- Report the Root Mean Square Error (RMSE) to evaluate the testing performance of your model."
      ]
    },
    {
      "cell_type": "code",
      "execution_count": 19,
      "metadata": {
        "colab": {
          "base_uri": "https://localhost:8080/"
        },
        "id": "x4IDbAwDTdLQ",
        "outputId": "65cae8a8-4e9f-47d8-8e67-09251f6e8efa"
      },
      "outputs": [
        {
          "output_type": "stream",
          "name": "stdout",
          "text": [
            "oefficients: [  10.17733701   18.59594951  103.74664627 5222.06671709 -138.53886518\n",
            "  -26.9272339   328.28445291 -528.78077484]\n",
            "Intercept: [522.28555137]\n",
            "Root Mean Square Error: 4572.98520683828\n"
          ]
        }
      ],
      "source": [
        "Model_Lasso = Lasso()\n",
        "Model_Lasso.fit(XtrainScaled, ytrain)\n",
        "\n",
        "#Report the coefficients and intercept of the model.\n",
        "print('oefficients:', Model_Lasso.coef_)\n",
        "print('Intercept:', Model_Lasso.intercept_)\n",
        "\n",
        "# predictions\n",
        "ypred = Model_Lasso.predict(XtestScaled)\n",
        "\n",
        "# Root Mean Square Error (RMSE) to evaluate the testing performance of your model.\n",
        "rmse = mean_squared_error(ytest, ypred)**0.5\n",
        "print('Root Mean Square Error:', rmse)\n"
      ]
    },
    {
      "cell_type": "markdown",
      "metadata": {
        "id": "9unoM0VkTdLR"
      },
      "source": [
        "---\n",
        "## Question 2 Part D - Determine the Optimal Regularization Term ( X / 5 pts )\n",
        "- Perform Lasso Regression with 5-fold cross-validation on the training set to find and **print out** the optimal regularization parameter (alpha) value. Vary the regularization parameter (alpha) between 0.01 and 100, evenly spaced in log-space, and generate 100 values. Set the random state to 42. Tip: use LassoCV function.\n",
        "- Create a plot showing the relationship between these 100 alpha values and their corresponding mean RMSE values. Sets the scale of the x-axis to a logarithmic scale. \n",
        "- Build and fit a Lasso Regression model on the training set using the optimal alpha and a random state of 42. Report the coefficients and intercept of the model. Report the Root Mean Square Error (RMSE) to evaluate the testing performance of your model."
      ]
    },
    {
      "cell_type": "code",
      "execution_count": 25,
      "metadata": {
        "id": "7Mgig2BmTdLR"
      },
      "outputs": [],
      "source": [
        "regularization_strength = np.exp(np.linspace(np.log(0.2),np.log(250),50))"
      ]
    },
    {
      "cell_type": "code",
      "execution_count": null,
      "metadata": {
        "id": "LnB4wHQmTdLR"
      },
      "outputs": [],
      "source": []
    },
    {
      "cell_type": "markdown",
      "metadata": {
        "id": "tBPO2p1ZTdLS"
      },
      "source": [
        "---\n",
        "## Question 2 Part E - Identify Important Features Using Lasso Regression ( X / 5 pts )\n",
        "- Build Lasso Regression models on a dataset with n features (n = 1, 2, ..., 8) and plots the Root Mean Squared Error (RMSE) against the number of features used. Please follow the following steps:\n",
        "    - Determine feature importance using the coefficients of the optimized Lasso model from Q-2D. Tip: The features with larger absolute coefficients are considered more important.\n",
        "    - Iteratively fit the optimized Lasso model with different numbers of features (top-n most important features) (n = 1, 2, ..., 8).\n",
        "    - Calculate and store RMSE values for each iteration.\n",
        "    - Print out the names of the features in order of importance, from most to least important.\n",
        "    - Plot the RMSE values against the number of important features used (from 1 - 8). Add appropriate x-axis and y-axis labels."
      ]
    },
    {
      "cell_type": "code",
      "execution_count": null,
      "metadata": {
        "id": "gU7Y0XwcTdLS"
      },
      "outputs": [],
      "source": []
    },
    {
      "cell_type": "markdown",
      "metadata": {
        "id": "fTc5K8OLTdLT"
      },
      "source": [
        "---\n",
        "## Question 2 Part F - Discussion: Feature Selection Using Lasso Regression ( X / 4 pts )\n",
        "Based on the plot from Q2-E, answer the following two questions in text:\n",
        "- A) Determine which feature is the most important feature and discuss the reasons why this feature is the most important feature to predict delivery-time.\n",
        "- B) Determine how many features should be selected, give their names, and discuss the reasons, based on the plot from Q2-F."
      ]
    },
    {
      "cell_type": "markdown",
      "metadata": {
        "id": "Wkd2f6MrTdLT"
      },
      "source": [
        "#### A) Written answer: Explain here.\n",
        "\n"
      ]
    },
    {
      "cell_type": "markdown",
      "metadata": {
        "id": "KRG68ysJTdLU"
      },
      "source": [
        "#### B) Written answer: Explain here.\n"
      ]
    },
    {
      "cell_type": "markdown",
      "metadata": {
        "id": "1n9gykyqTdLU"
      },
      "source": [
        "---\n",
        "---\n",
        "# Question 3 - Classification and Evaluation (X / 35 pts)\n",
        "Your next task is to build classification models that can identify the malicious attacker IPs."
      ]
    },
    {
      "cell_type": "markdown",
      "metadata": {
        "id": "055m6kryTdLU"
      },
      "source": [
        "---\n",
        "## Question 3 Part A - Data Splitting For Classification ( X / 1 pts )\n",
        "- Use 'label' as the target variable y for your classification models for abnormal IP detection, and other variables as the feature set X.\n",
        "- Split the data into equals-sized training and test sets (do not shuffle the data)."
      ]
    },
    {
      "cell_type": "code",
      "execution_count": 23,
      "metadata": {
        "id": "-61VgWibTdLV"
      },
      "outputs": [],
      "source": [
        "features = df[['requests', 'request-interval', 'request-popularity', 'bytes','delivery-time','hit-rate', 'nodes', 'contents']]\n",
        "target = df[['label']]\n",
        "X_train, X_test, y_train, y_test = train_test_split(features, target,test_size=0.5, shuffle=False)"
      ]
    },
    {
      "cell_type": "markdown",
      "metadata": {
        "id": "GRt-ywNrTdLV"
      },
      "source": [
        "---\n",
        "## Question 3 Part B - Data Standardization ( X / 1 pts )\n",
        "- Z-standarize the input features of the training and test sets.\n",
        "- All the questions below should be based on the standarized dataset."
      ]
    },
    {
      "cell_type": "code",
      "execution_count": 24,
      "metadata": {
        "id": "1flyMUEBTdLW"
      },
      "outputs": [],
      "source": [
        "scaler = StandardScaler()\n",
        "X_trainScaled = scaler.fit_transform(X_train)\n",
        "X_testScaled = scaler.fit_transform(X_test)"
      ]
    },
    {
      "cell_type": "markdown",
      "metadata": {
        "id": "AS4Hh64dTdLW"
      },
      "source": [
        "---\n",
        "## Question 3 Part C - Random Forest ( X / 3 pts )\n",
        "- Build a Random Forest model that consists of 5 base decision trees with the maximum depth of 5, and fit the training set. Set random state to 42.\n",
        "- Print out the accuracy, F1-score, confusion matrix, and execution time (including both training and testing time) of the model when evaluating the testing performance of your model.\n"
      ]
    },
    {
      "cell_type": "code",
      "execution_count": null,
      "metadata": {
        "id": "gZmBLD8fTdLW"
      },
      "outputs": [],
      "source": [
        "  #Build a Random Forest model that consists of 5 base decision trees with the maximum depth of 5\n",
        "  myRandomForestModel = RandomForestClassifier(n_estimators=10, random_state=42)\n",
        "  myRandomForestModel.fit(Xtrain, ytrain)"
      ]
    },
    {
      "cell_type": "markdown",
      "metadata": {
        "id": "daMeD0LXTdLW"
      },
      "source": [
        "---\n",
        "## Question 3 Part D - Feature Selection by Random Forest ( X / 10 pts )\n",
        "- Use the Random Forest model you built in Q3-C to generate feature importance scores and select the most important features (rank the importance scores of each feature in descending order, and only select the important features from most to least important until the accumulated relative importance score reaches 90% or 0.9).\n",
        "- Use a horizontal bar chart to plot the importance scores of all features in descending order. Add appropriate x-axis and y-axis labels.\n",
        "- Print out the selected features with their importance scores, and generate the new training and test sets with the new feature set. \n",
        "- Retrain the same Random Forest model from Q3-C on the new training set, and print out the accuracy, F1-score, confusion matrix, and execution time (including both training and testing time) of the model on the new test set."
      ]
    },
    {
      "cell_type": "code",
      "execution_count": null,
      "metadata": {
        "id": "8yQpPs93TdLX"
      },
      "outputs": [],
      "source": []
    },
    {
      "cell_type": "code",
      "execution_count": null,
      "metadata": {
        "id": "ZQ1LtcK_TdLX"
      },
      "outputs": [],
      "source": []
    },
    {
      "cell_type": "markdown",
      "metadata": {
        "id": "FPMs8J_xTdLX"
      },
      "source": [
        "---\n",
        "## Question 3 Part E - Hyperparamete Tuning of Random Forest ( X / 5 pts )\n",
        "- Use 3-fold grid search to tune two hyperparameters for the Random Forest model you built in Q3-D:\n",
        "    - The number of base estimators/decision trees (find the better value among the two numbers 10 and 20).\n",
        "    - The maximum tree depth (find the better value among the two numbers 10 and 20).\n",
        "- Print out the detected better hyperparameter values and cross-validation score.\n",
        "- Build the Random Forest model with the better hyperparameter values you found, and fit the new training set from Q3-D.\n",
        "- Report the accuracy, F1-score. confusion matrix, and execution time (including both training and testing time) of the model when evaluating the testing performance of your model on the new test set from Q3-D.\n"
      ]
    },
    {
      "cell_type": "code",
      "execution_count": null,
      "metadata": {
        "id": "FSAyUxwQTdLX"
      },
      "outputs": [],
      "source": []
    },
    {
      "cell_type": "code",
      "execution_count": null,
      "metadata": {
        "id": "yE5Xb35KTdLX"
      },
      "outputs": [],
      "source": []
    },
    {
      "cell_type": "markdown",
      "metadata": {
        "id": "EKilBWmdTdLY"
      },
      "source": [
        "---\n",
        "## Question 3 Part F - Classification Model Performance Discussion ( X / 5 pts )\n",
        "- Compare the performance of the three models from Question 3-C, 3-D, and 3-E, and discuss reasons for performance difference.\n",
        "- Compare the execution time of the three models from Question 3-C, 3-D, and 3-E, and discuss reasons for time/efficiency difference."
      ]
    },
    {
      "cell_type": "markdown",
      "metadata": {
        "id": "MxVHEPdwTdLY"
      },
      "source": [
        "#### Written answer: Explain here."
      ]
    },
    {
      "cell_type": "markdown",
      "metadata": {
        "id": "Siekx7GITdLY"
      },
      "source": [
        "#### Written answer: Explain here."
      ]
    },
    {
      "cell_type": "markdown",
      "metadata": {
        "id": "FgNxcOwGTdLY"
      },
      "source": [
        "---\n",
        "## Question 3 Part G - MLP Model ( X / 5 pts )\n",
        "Build a MLP model to fit the training set from Question 3-B. The details of the MLP model are as follows:\n",
        "- The model should have two hidden layers with 32 neurons each, and use ReLU activation function. \n",
        "- The output layer should have sigmoid activation function. \n",
        "- Compile the model with binary cross-entropy loss function, Adam optimizer with learning rate of 0.001, and accuracy as the metric.\n",
        "- Train the model for 10 epochs with batch size of 32. \n",
        "- Evaluate the trained model on the test data, and print the accuracy, F1-score. confusion matrix, and execution time (including both training and testing time) of the model."
      ]
    },
    {
      "cell_type": "code",
      "execution_count": null,
      "metadata": {
        "id": "J4MnZ90ITdLZ"
      },
      "outputs": [],
      "source": []
    },
    {
      "cell_type": "markdown",
      "metadata": {
        "id": "_rWxTEJOTdLZ"
      },
      "source": [
        "---\n",
        "## Question 3 Part H - MLP Loss Change Plot ( X / 2 pts )\n",
        "Record the loss for each iteration of the MLP model, and make a plot of the number of iterations/epochs vs loss(Binary Cross Entropy). Add appropriate x-axis and y-axis labels."
      ]
    },
    {
      "cell_type": "code",
      "execution_count": null,
      "metadata": {
        "id": "VN99A-XPTdLZ"
      },
      "outputs": [],
      "source": []
    },
    {
      "cell_type": "markdown",
      "metadata": {
        "id": "4jcWnRF6TdLZ"
      },
      "source": [
        "---\n",
        "## Question 3 Part I - ROC Curve Plot ( X / 3 pts )\n",
        "- Plot the ROC curve for evaluating the model on the test set.\n",
        "- Report the area under the ROC curve."
      ]
    },
    {
      "cell_type": "code",
      "execution_count": null,
      "metadata": {
        "id": "98kQI6T9TdLZ"
      },
      "outputs": [],
      "source": []
    },
    {
      "cell_type": "markdown",
      "metadata": {
        "id": "f14BwbvOTdLa"
      },
      "source": [
        "---\n",
        "---\n",
        "---\n",
        "**You're done! As always, double-check your work by re-running the notebook from scratch.**"
      ]
    }
  ],
  "metadata": {
    "kernelspec": {
      "display_name": "Python 3 (ipykernel)",
      "language": "python",
      "name": "python3"
    },
    "language_info": {
      "codemirror_mode": {
        "name": "ipython",
        "version": 3
      },
      "file_extension": ".py",
      "mimetype": "text/x-python",
      "name": "python",
      "nbconvert_exporter": "python",
      "pygments_lexer": "ipython3",
      "version": "3.9.13"
    },
    "vscode": {
      "interpreter": {
        "hash": "ad2bdc8ecc057115af97d19610ffacc2b4e99fae6737bb82f5d7fb13d2f2c186"
      }
    },
    "colab": {
      "provenance": [],
      "include_colab_link": true
    }
  },
  "nbformat": 4,
  "nbformat_minor": 0
}